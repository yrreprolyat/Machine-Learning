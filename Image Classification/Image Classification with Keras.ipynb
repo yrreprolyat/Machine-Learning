{
 "cells": [
  {
   "cell_type": "markdown",
   "metadata": {},
   "source": [
    "#   Traffic Sign Recognition Project"
   ]
  },
  {
   "cell_type": "code",
   "execution_count": 1,
   "metadata": {},
   "outputs": [],
   "source": [
    "import numpy as np\n",
    "from skimage import color, exposure, transform\n",
    "\n",
    "NUM_CLASSES = 43\n",
    "IMG_SIZE = 48\n"
   ]
  },
  {
   "cell_type": "code",
   "execution_count": 2,
   "metadata": {},
   "outputs": [],
   "source": [
    "def preprocess_img(img):\n",
    "    # Histogram normalization in v channel\n",
    "    hsv = color.rgb2hsv(img)\n",
    "    hsv[:, :, 2] = exposure.equalize_hist(hsv[:, :, 2])\n",
    "    img = color.hsv2rgb(hsv)\n",
    "\n",
    "    # central square crop\n",
    "    min_side = min(img.shape[:-1])\n",
    "    centre = img.shape[0] // 2, img.shape[1] // 2\n",
    "    img = img[centre[0] - min_side // 2:centre[0] + min_side // 2,\n",
    "              centre[1] - min_side // 2:centre[1] + min_side // 2,\n",
    "              :]\n",
    "\n",
    "    # rescale to standard size\n",
    "    img = transform.resize(img, (IMG_SIZE, IMG_SIZE))\n",
    "\n",
    "    # roll color axis to axis 0\n",
    "    img = np.rollaxis(img, -1)\n",
    "\n",
    "    return img"
   ]
  },
  {
   "cell_type": "code",
   "execution_count": 7,
   "metadata": {},
   "outputs": [],
   "source": [
    "from skimage import io\n",
    "import os\n",
    "import glob"
   ]
  },
  {
   "cell_type": "code",
   "execution_count": 8,
   "metadata": {},
   "outputs": [
    {
     "name": "stderr",
     "output_type": "stream",
     "text": [
      "/Users/amy/anaconda3/envs/TensorFlow/lib/python2.7/site-packages/skimage/transform/_warps.py:84: UserWarning: The default mode, 'constant', will be changed to 'reflect' in skimage 0.15.\n",
      "  warn(\"The default mode, 'constant', will be changed to 'reflect' in \"\n"
     ]
    }
   ],
   "source": [
    "def get_class(img_path):\n",
    "    return int(img_path.split('/')[-2])\n",
    "\n",
    "root_dir = 'GTSRB/Final_Training/Images/'\n",
    "imgs = []\n",
    "labels = []\n",
    "\n",
    "all_img_paths = glob.glob(os.path.join(root_dir, '*/*.ppm'))\n",
    "np.random.shuffle(all_img_paths)\n",
    "for img_path in all_img_paths:\n",
    "    img = preprocess_img(io.imread(img_path))\n",
    "    label = get_class(img_path)\n",
    "    imgs.append(img)\n",
    "    labels.append(label)\n",
    "\n",
    "X = np.array(imgs, dtype='float32')\n",
    "# Make one hot targets\n",
    "Y = np.eye(NUM_CLASSES, dtype='uint8')[labels]"
   ]
  },
  {
   "cell_type": "markdown",
   "metadata": {
    "collapsed": true
   },
   "source": [
    "# Model"
   ]
  },
  {
   "cell_type": "code",
   "execution_count": 5,
   "metadata": {},
   "outputs": [],
   "source": [
    "import tensorflow as tf"
   ]
  },
  {
   "cell_type": "code",
   "execution_count": 12,
   "metadata": {},
   "outputs": [],
   "source": [
    "from keras.models import Sequential\n",
    "from keras.layers.core import Dense, Dropout, Activation, Flatten\n",
    "from keras.layers.convolutional import Conv2D\n",
    "from keras.layers.pooling import MaxPooling2D\n",
    "from keras.optimizers import SGD\n",
    "from keras import backend as K\n",
    "K.set_image_data_format('channels_first')"
   ]
  },
  {
   "cell_type": "code",
   "execution_count": 13,
   "metadata": {},
   "outputs": [],
   "source": [
    "def cnn_model():\n",
    "    model = Sequential()\n",
    "\n",
    "    model.add(Conv2D(32, (3, 3), padding='same',\n",
    "                     input_shape=(3, IMG_SIZE, IMG_SIZE),\n",
    "                     activation='relu'))\n",
    "    model.add(Conv2D(32, (3, 3), activation='relu'))\n",
    "    model.add(MaxPooling2D(pool_size=(2, 2)))\n",
    "    model.add(Dropout(0.2))\n",
    "\n",
    "    model.add(Conv2D(64, (3, 3), padding='same',\n",
    "                     activation='relu'))\n",
    "    model.add(Conv2D(64, (3, 3), activation='relu'))\n",
    "    model.add(MaxPooling2D(pool_size=(2, 2)))\n",
    "    model.add(Dropout(0.2))\n",
    "\n",
    "    model.add(Conv2D(128, (3, 3), padding='same',\n",
    "                     activation='relu'))\n",
    "    model.add(Conv2D(128, (3, 3), activation='relu'))\n",
    "    model.add(MaxPooling2D(pool_size=(2, 2)))\n",
    "    model.add(Dropout(0.2))\n",
    "\n",
    "    model.add(Flatten())\n",
    "    model.add(Dense(512, activation='relu'))\n",
    "    model.add(Dropout(0.5))\n",
    "    model.add(Dense(NUM_CLASSES, activation='softmax'))\n",
    "    return model"
   ]
  },
  {
   "cell_type": "markdown",
   "metadata": {
    "collapsed": true
   },
   "source": [
    "## Configuring the learning algorithm \n",
    " \n",
    " * **Loss** function we want to optimize. We cannot use error percentage as it is not continuous and thus non          differentiable. We therefore use a proxy for it: categorical_crossentropy \n",
    " \n",
    "* **Optimizer** : We use standard stochastic gradient descent with Nesterov momentum \n",
    "\n",
    "* **Metric** : Since we are dealing with a classification problem, our metric is accuracy\n",
    " \n",
    " "
   ]
  },
  {
   "cell_type": "code",
   "execution_count": 15,
   "metadata": {},
   "outputs": [],
   "source": [
    "from keras.optimizers import SGD\n",
    "model = cnn_model()"
   ]
  },
  {
   "cell_type": "markdown",
   "metadata": {},
   "source": [
    "** Let's train the model using SGD + momentum **"
   ]
  },
  {
   "cell_type": "code",
   "execution_count": 19,
   "metadata": {},
   "outputs": [],
   "source": [
    "lr = 0.01\n",
    "sgd = SGD(lr=lr, decay=1e-6, momentum=0.9, nesterov=True)\n",
    "model.compile(loss='categorical_crossentropy',optimizer=sgd,metrics=['accuracy'])"
   ]
  },
  {
   "cell_type": "markdown",
   "metadata": {},
   "source": [
    "## Training\n",
    "\n",
    "The model will iterate over batches of training set each size of batch_size. Gradients will be computed and updates will be made to the weigths\n",
    "\n",
    "**Epoch**: one iteration over all the trainong set \n",
    "\n",
    "**Learning rate scheduler**: Decaying learning rate over the epochs\n",
    "\n",
    "**Model checkpoint**: save the model with best validation accuracy. The network might start overfitting after certain number of epochs\n",
    "\n",
    "Training is run until the loss converges to a constant"
   ]
  },
  {
   "cell_type": "code",
   "execution_count": 22,
   "metadata": {},
   "outputs": [],
   "source": [
    "from keras.callbacks import LearningRateScheduler, ModelCheckpoint"
   ]
  },
  {
   "cell_type": "code",
   "execution_count": 23,
   "metadata": {},
   "outputs": [
    {
     "name": "stdout",
     "output_type": "stream",
     "text": [
      "Train on 31367 samples, validate on 7842 samples\n",
      "Epoch 1/30\n",
      "31367/31367 [==============================] - 615s 20ms/step - loss: 1.6899 - acc: 0.5185 - val_loss: 0.2242 - val_acc: 0.9364\n",
      "Epoch 2/30\n",
      "31367/31367 [==============================] - 631s 20ms/step - loss: 0.2773 - acc: 0.9149 - val_loss: 0.0824 - val_acc: 0.9759\n",
      "Epoch 3/30\n",
      "31367/31367 [==============================] - 646s 21ms/step - loss: 0.1594 - acc: 0.9522 - val_loss: 0.0600 - val_acc: 0.9829\n",
      "Epoch 4/30\n",
      "31367/31367 [==============================] - 633s 20ms/step - loss: 0.1194 - acc: 0.9629 - val_loss: 0.0401 - val_acc: 0.9884\n",
      "Epoch 5/30\n",
      "31367/31367 [==============================] - 621s 20ms/step - loss: 0.0954 - acc: 0.9709 - val_loss: 0.0485 - val_acc: 0.9847\n",
      "Epoch 6/30\n",
      "31367/31367 [==============================] - 627s 20ms/step - loss: 0.0744 - acc: 0.9773 - val_loss: 0.0281 - val_acc: 0.9927\n",
      "Epoch 7/30\n",
      "31367/31367 [==============================] - 619s 20ms/step - loss: 0.0611 - acc: 0.9812 - val_loss: 0.0307 - val_acc: 0.9904\n",
      "Epoch 8/30\n",
      "31367/31367 [==============================] - 619s 20ms/step - loss: 0.0592 - acc: 0.9811 - val_loss: 0.0255 - val_acc: 0.9929\n",
      "Epoch 9/30\n",
      "31367/31367 [==============================] - 622s 20ms/step - loss: 0.0438 - acc: 0.9867 - val_loss: 0.0227 - val_acc: 0.9932\n",
      "Epoch 10/30\n",
      "31367/31367 [==============================] - 620s 20ms/step - loss: 0.0494 - acc: 0.9855 - val_loss: 0.0299 - val_acc: 0.9915\n",
      "Epoch 11/30\n",
      "31367/31367 [==============================] - 615s 20ms/step - loss: 0.0271 - acc: 0.9916 - val_loss: 0.0167 - val_acc: 0.9954\n",
      "Epoch 12/30\n",
      "31367/31367 [==============================] - 876s 28ms/step - loss: 0.0154 - acc: 0.9952 - val_loss: 0.0142 - val_acc: 0.9962\n",
      "Epoch 13/30\n",
      "31367/31367 [==============================] - 696s 22ms/step - loss: 0.0129 - acc: 0.9955 - val_loss: 0.0143 - val_acc: 0.9959\n",
      "Epoch 14/30\n",
      "31367/31367 [==============================] - 608s 19ms/step - loss: 0.0110 - acc: 0.9967 - val_loss: 0.0145 - val_acc: 0.9959\n",
      "Epoch 15/30\n",
      "31367/31367 [==============================] - 608s 19ms/step - loss: 0.0116 - acc: 0.9965 - val_loss: 0.0133 - val_acc: 0.9963\n",
      "Epoch 16/30\n",
      "31367/31367 [==============================] - 607s 19ms/step - loss: 0.0090 - acc: 0.9972 - val_loss: 0.0128 - val_acc: 0.9964\n",
      "Epoch 17/30\n",
      "31367/31367 [==============================] - 624s 20ms/step - loss: 0.0085 - acc: 0.9975 - val_loss: 0.0134 - val_acc: 0.9964\n",
      "Epoch 18/30\n",
      "31367/31367 [==============================] - 1693s 54ms/step - loss: 0.0080 - acc: 0.9971 - val_loss: 0.0127 - val_acc: 0.9969\n",
      "Epoch 19/30\n",
      "31367/31367 [==============================] - 608s 19ms/step - loss: 0.0072 - acc: 0.9977 - val_loss: 0.0130 - val_acc: 0.9964\n",
      "Epoch 20/30\n",
      "31367/31367 [==============================] - 607s 19ms/step - loss: 0.0068 - acc: 0.9981 - val_loss: 0.0131 - val_acc: 0.9966\n",
      "Epoch 21/30\n",
      "31367/31367 [==============================] - 608s 19ms/step - loss: 0.0056 - acc: 0.9984 - val_loss: 0.0128 - val_acc: 0.9967\n",
      "Epoch 22/30\n",
      "31367/31367 [==============================] - 609s 19ms/step - loss: 0.0073 - acc: 0.9979 - val_loss: 0.0128 - val_acc: 0.9967\n",
      "Epoch 23/30\n",
      "31367/31367 [==============================] - 607s 19ms/step - loss: 0.0065 - acc: 0.9981 - val_loss: 0.0126 - val_acc: 0.9966\n",
      "Epoch 24/30\n",
      "31367/31367 [==============================] - 607s 19ms/step - loss: 0.0060 - acc: 0.9978 - val_loss: 0.0126 - val_acc: 0.9967\n",
      "Epoch 25/30\n",
      "31367/31367 [==============================] - 608s 19ms/step - loss: 0.0062 - acc: 0.9980 - val_loss: 0.0126 - val_acc: 0.9967\n",
      "Epoch 26/30\n",
      "31367/31367 [==============================] - 607s 19ms/step - loss: 0.0069 - acc: 0.9976 - val_loss: 0.0125 - val_acc: 0.9967\n",
      "Epoch 27/30\n",
      "31367/31367 [==============================] - 618s 20ms/step - loss: 0.0061 - acc: 0.9979 - val_loss: 0.0125 - val_acc: 0.9967\n",
      "Epoch 28/30\n",
      "31367/31367 [==============================] - 621s 20ms/step - loss: 0.0061 - acc: 0.9981 - val_loss: 0.0124 - val_acc: 0.9967\n",
      "Epoch 29/30\n",
      "31367/31367 [==============================] - 632s 20ms/step - loss: 0.0055 - acc: 0.9980 - val_loss: 0.0126 - val_acc: 0.9966\n",
      "Epoch 30/30\n",
      "31367/31367 [==============================] - 611s 19ms/step - loss: 0.0063 - acc: 0.9980 - val_loss: 0.0126 - val_acc: 0.9967\n"
     ]
    },
    {
     "data": {
      "text/plain": [
       "<keras.callbacks.History at 0x1c2776d610>"
      ]
     },
     "execution_count": 23,
     "metadata": {},
     "output_type": "execute_result"
    }
   ],
   "source": [
    "def lr_schedule(epoch):\n",
    "    return lr * (0.1 ** int(epoch / 10))\n",
    "\n",
    "batch_size = 32\n",
    "epochs = 30\n",
    "\n",
    "model.fit(X, Y,\n",
    "          batch_size=batch_size,\n",
    "          epochs=epochs,\n",
    "          validation_split=0.2,\n",
    "          callbacks=[LearningRateScheduler(lr_schedule),\n",
    "                     ModelCheckpoint('model.h5', save_best_only=True)]\n",
    "          )"
   ]
  },
  {
   "cell_type": "markdown",
   "metadata": {},
   "source": [
    "## Evaluating the Model"
   ]
  },
  {
   "cell_type": "code",
   "execution_count": 28,
   "metadata": {},
   "outputs": [],
   "source": [
    "import pandas as pd\n",
    "test = pd.read_csv('/Users/amy/Desktop/Keras_Project/GTSRB/GT-final_test.csv', sep=';')\n"
   ]
  },
  {
   "cell_type": "code",
   "execution_count": 29,
   "metadata": {},
   "outputs": [],
   "source": [
    "# Loading test dataset\n",
    "X_test = []\n",
    "y_test = []\n",
    "i = 0\n",
    "for file_name, class_id in zip(list(test['Filename']), list(test['ClassId'])):\n",
    "    img_path = os.path.join('GTSRB/Final_Test/Images/', file_name)\n",
    "    X_test.append(preprocess_img(io.imread(img_path)))\n",
    "    y_test.append(class_id)\n",
    "\n",
    "X_test = np.array(X_test)\n",
    "y_test = np.array(y_test)"
   ]
  },
  {
   "cell_type": "code",
   "execution_count": 30,
   "metadata": {},
   "outputs": [
    {
     "name": "stdout",
     "output_type": "stream",
     "text": [
      "Test accuracy = 0\n"
     ]
    }
   ],
   "source": [
    "# predict and evaluate\n",
    "y_pred = model.predict_classes(X_test)\n",
    "acc = np.sum(y_pred == y_test) / np.size(y_pred)\n",
    "print(\"Test accuracy = {}\".format(acc))"
   ]
  },
  {
   "cell_type": "code",
   "execution_count": null,
   "metadata": {},
   "outputs": [],
   "source": []
  }
 ],
 "metadata": {
  "kernelspec": {
   "display_name": "Python 2",
   "language": "python",
   "name": "python2"
  },
  "language_info": {
   "codemirror_mode": {
    "name": "ipython",
    "version": 2
   },
   "file_extension": ".py",
   "mimetype": "text/x-python",
   "name": "python",
   "nbconvert_exporter": "python",
   "pygments_lexer": "ipython2",
   "version": "2.7.14"
  }
 },
 "nbformat": 4,
 "nbformat_minor": 2
}
